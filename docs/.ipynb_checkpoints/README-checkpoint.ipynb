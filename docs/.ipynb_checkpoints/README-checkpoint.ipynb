{
 "cells": [
  {
   "cell_type": "markdown",
   "metadata": {},
   "source": [
    "# SBD-RTRM: Sparse blind deconvolution using the Riemannian Trust-Region Method"
   ]
  },
  {
   "cell_type": "markdown",
   "metadata": {},
   "source": [
    "**SBD-RTRM** is a MATLAB package for *sparse blind deconvolution* (SBD) using the *Riemannian Trust Region* method (RTRM) under the observational data model\n",
    "\n",
    "$$\\mathcal Y = \\mathcal A \\diamond \\mathcal X + \\mathcal N \\quad\\in\\mathbb R^{s\\times n_1\\times n_2}$$\n",
    "\n",
    "- The *kernel* $\\mathcal A \\in \\mathbb R^{s\\times k_1\\times k_2}$ is a \"template tensor\" that of $s$ measurement \"slices\" that is small in size relative to the observation window (i.e. $k_1\\ll n_1$, $k_2\\ll n_2$). \n",
    "- Each kernel slice convolves (via standard 2D convolution) with the **sparse** *activation map* $\\mathcal X \\in \\mathbb R^{n_1\\times n_2}$ to produce the collection $\\mathcal A \\diamond \\mathcal X$.\n",
    "- $\\mathcal Y$ observes this result, contiminated by some (presumably zero-mean) noise tensor $\\mathcal N$."
   ]
  },
  {
   "cell_type": "markdown",
   "metadata": {
    "collapsed": true
   },
   "source": [
    "The goal is to recover $\\mathcal A$ and $\\mathcal X$ given $\\mathcal Y$. Knowing that $\\mathcal X$ is sparse motivates the following *nonconvex* optimization problem:\n",
    "\n",
    "$$\\min_{\\mathcal A ,\\mathcal X}\\ \\ \\tfrac{1}{2}\\Vert \\mathcal A \\diamond \\mathcal X - \\mathcal Y \\Vert_F^2 + \\lambda\\Vert\\mathcal X\\Vert_1.$$\n",
    "\n",
    "After making a number modifications to the above problem as a result of geometrical considerations, SBD-RTRM solves the modified problem to recover the kernel and activation map. Using RTRM to solve the nonconvex optimization problem strongly guarantees that a local minimum will be found."
   ]
  },
  {
   "cell_type": "markdown",
   "metadata": {},
   "source": [
    "## Microscopy\n",
    "While this problem setting naturally generalizes standard sparse blind deconvolution (by setting $s=1$), our problem setting is motivated by applications in Scanning Tunneling Microscopy (STM)..."
   ]
  },
  {
   "cell_type": "markdown",
   "metadata": {},
   "source": [
    "## Setup\n",
    " 1. Ensure the ManOpt package is installed for RTRM [(http://www.manopt.org)](http://www.manopt.org).\n",
    " 2. Download the `sbd-rtrm` package, and in MATLAB run `init_sbd.m` each time you want to use the tools from this package.\n",
    " 3. Run `examples/simple_SBD_example.m` or `full_SBD_and_STM_example.m`."
   ]
  },
  {
   "cell_type": "markdown",
   "metadata": {},
   "source": [
    "## Core functions\n",
    "### `SBD.m`"
   ]
  },
  {
   "cell_type": "markdown",
   "metadata": {},
   "source": [
    "### `core\\Asolve_Manopt.m`\n",
    "### `core\\Xsolve_pdNCG.m`"
   ]
  },
  {
   "cell_type": "markdown",
   "metadata": {},
   "source": [
    "## Future updates\n",
    " - Finish `README.ipynb`\n",
    "     - Write up \"Microscopy\" section\n",
    "     - Write up \"Core Functions\" section\n",
    "     - Add references\n",
    "     \n",
    " - Add `Xpos` option to `SBD.m`\n",
    " - Create a RTRM package for CDL"
   ]
  }
 ],
 "metadata": {
  "kernelspec": {
   "display_name": "Python 3",
   "language": "python",
   "name": "python3"
  },
  "language_info": {
   "codemirror_mode": {
    "name": "ipython",
    "version": 3
   },
   "file_extension": ".py",
   "mimetype": "text/x-python",
   "name": "python",
   "nbconvert_exporter": "python",
   "pygments_lexer": "ipython3",
   "version": "3.6.1"
  }
 },
 "nbformat": 4,
 "nbformat_minor": 2
}
